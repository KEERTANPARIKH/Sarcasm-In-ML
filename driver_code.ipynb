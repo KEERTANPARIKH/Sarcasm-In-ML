{
  "nbformat": 4,
  "nbformat_minor": 0,
  "metadata": {
    "colab": {
      "provenance": []
    },
    "kernelspec": {
      "name": "python3",
      "display_name": "Python 3"
    },
    "language_info": {
      "name": "python"
    }
  },
  "cells": [
    {
      "cell_type": "code",
      "source": [
        "import json\n",
        "import tensorflow as tf\n",
        "\n",
        "from tensorflow.keras.preprocessing.text import Tokenizer\n",
        "from tensorflow.keras.preprocessing.sequence import pad_sequences"
      ],
      "metadata": {
        "id": "AsBIMd3Dsdft"
      },
      "execution_count": null,
      "outputs": []
    },
    {
      "cell_type": "code",
      "source": [
        "import requests #library to make http requests\n",
        "\n",
        "#Enter where you want to store the training dataset (json file)\n",
        "output_location = r'C:\\Users\\Keertan\\OneDrive\\Desktop\\5sem\\ML\\inno\\sarcasm.json'\n",
        "\n",
        "url = 'https://storage.googleapis.com/learning-datasets/sarcasm.json' #downloading the dataset from google api\n",
        "output_file = output_location\n",
        "\n",
        "try:\n",
        "    response = requests.get(url, stream=True) #Stream: receive data as chunks at a time\n",
        "    response.raise_for_status() #Checks for error in http request response\n",
        "\n",
        "    with open(output_file, 'wb') as file:\n",
        "        for chunk in response.iter_content(chunk_size=8192):\n",
        "            if chunk:\n",
        "                file.write(chunk)\n",
        "\n",
        "    print(f\"File downloaded to {output_file}\")\n",
        "except requests.exceptions.RequestException as e:\n",
        "    print(f\"Error: {e}\")"
      ],
      "metadata": {
        "colab": {
          "base_uri": "https://localhost:8080/"
        },
        "id": "F5fs0Gwasdc-",
        "outputId": "c206813e-b613-4055-e445-a49974b9eb2a"
      },
      "execution_count": null,
      "outputs": [
        {
          "output_type": "stream",
          "name": "stdout",
          "text": [
            "File downloaded to C:\\Users\\Keertan\\OneDrive\\Desktop\\5sem\\ML\\inno\\sarcasm.json\n"
          ]
        }
      ]
    },
    {
      "cell_type": "code",
      "source": [
        "with open(output_location, 'r') as f:\n",
        "    datastore = json.load(f)\n",
        "\n",
        "sentences = []\n",
        "labels = []\n",
        "\n",
        "for item in datastore:\n",
        "    sentences.append(item['headline'])\n",
        "    labels.append(item['is_sarcastic'])"
      ],
      "metadata": {
        "id": "sFmymGNfsdab"
      },
      "execution_count": null,
      "outputs": []
    },
    {
      "cell_type": "code",
      "source": [
        "training_size = 20000\n",
        "training_sentences = sentences[0:training_size]\n",
        "testing_sentences = sentences[training_size:]\n",
        "training_labels = labels[0:training_size]\n",
        "testing_labels = labels[training_size:]"
      ],
      "metadata": {
        "id": "-0q6IyiCsdX9"
      },
      "execution_count": null,
      "outputs": []
    },
    {
      "cell_type": "code",
      "source": [
        "max_length = 100\n",
        "vocab_size = 20000\n",
        "trunc_type='post'\n",
        "padding_type='post'\n",
        "oov_tok = \"<OOV>\"\n",
        "\n",
        "tokenizer = Tokenizer(num_words=vocab_size, oov_token=oov_tok)\n",
        "tokenizer.fit_on_texts(training_sentences)\n",
        "\n",
        "word_index = tokenizer.word_index\n",
        "\n",
        "training_sequences = tokenizer.texts_to_sequences(training_sentences)\n",
        "training_padded = pad_sequences(training_sequences, maxlen=max_length, padding=padding_type, truncating=trunc_type)\n",
        "\n",
        "testing_sequences = tokenizer.texts_to_sequences(testing_sentences)\n",
        "testing_padded = pad_sequences(testing_sequences, maxlen=max_length, padding=padding_type, truncating=trunc_type)"
      ],
      "metadata": {
        "id": "Ve7oXs_vs2vb"
      },
      "execution_count": null,
      "outputs": []
    },
    {
      "cell_type": "code",
      "source": [
        "import numpy as np\n",
        "training_padded = np.array(training_padded)\n",
        "training_labels = np.array(training_labels)\n",
        "testing_padded = np.array(testing_padded)\n",
        "testing_labels = np.array(testing_labels)"
      ],
      "metadata": {
        "id": "DgmclPmts3HQ"
      },
      "execution_count": null,
      "outputs": []
    },
    {
      "cell_type": "code",
      "source": [
        "embedding_dim = 16\n",
        "\n",
        "model = tf.keras.Sequential([\n",
        "    tf.keras.layers.Embedding(vocab_size, embedding_dim, input_length=max_length),\n",
        "    tf.keras.layers.GlobalAveragePooling1D(),\n",
        "    tf.keras.layers.Dense(24, activation='relu'),\n",
        "    tf.keras.layers.Dense(1, activation='sigmoid')\n",
        "])\n",
        "\n",
        "model.compile(loss='binary_crossentropy',optimizer='adam',metrics=['accuracy'])\n",
        "\n",
        "model.summary()"
      ],
      "metadata": {
        "colab": {
          "base_uri": "https://localhost:8080/"
        },
        "id": "tt8tCc47s3Pf",
        "outputId": "2388bd3c-e858-4777-eb6f-11c9fab5de10"
      },
      "execution_count": null,
      "outputs": [
        {
          "output_type": "stream",
          "name": "stdout",
          "text": [
            "Model: \"sequential\"\n",
            "_________________________________________________________________\n",
            " Layer (type)                Output Shape              Param #   \n",
            "=================================================================\n",
            " embedding (Embedding)       (None, 100, 16)           320000    \n",
            "                                                                 \n",
            " global_average_pooling1d (  (None, 16)                0         \n",
            " GlobalAveragePooling1D)                                         \n",
            "                                                                 \n",
            " dense (Dense)               (None, 24)                408       \n",
            "                                                                 \n",
            " dense_1 (Dense)             (None, 1)                 25        \n",
            "                                                                 \n",
            "=================================================================\n",
            "Total params: 320433 (1.22 MB)\n",
            "Trainable params: 320433 (1.22 MB)\n",
            "Non-trainable params: 0 (0.00 Byte)\n",
            "_________________________________________________________________\n"
          ]
        }
      ]
    },
    {
      "cell_type": "code",
      "source": [
        "num_epochs = 30\n",
        "history = model.fit(training_padded, training_labels, epochs=num_epochs, validation_data=(testing_padded, testing_labels), verbose=2)"
      ],
      "metadata": {
        "colab": {
          "base_uri": "https://localhost:8080/"
        },
        "id": "nG_pmQlEs3VR",
        "outputId": "717a5b11-f591-416b-8c61-993785d0bfd5"
      },
      "execution_count": null,
      "outputs": [
        {
          "output_type": "stream",
          "name": "stdout",
          "text": [
            "Epoch 1/30\n",
            "625/625 - 5s - loss: 0.6618 - accuracy: 0.5871 - val_loss: 0.5622 - val_accuracy: 0.7700 - 5s/epoch - 8ms/step\n",
            "Epoch 2/30\n",
            "625/625 - 6s - loss: 0.4085 - accuracy: 0.8429 - val_loss: 0.3758 - val_accuracy: 0.8425 - 6s/epoch - 10ms/step\n",
            "Epoch 3/30\n",
            "625/625 - 6s - loss: 0.2852 - accuracy: 0.8898 - val_loss: 0.3446 - val_accuracy: 0.8572 - 6s/epoch - 10ms/step\n",
            "Epoch 4/30\n",
            "625/625 - 7s - loss: 0.2251 - accuracy: 0.9155 - val_loss: 0.3626 - val_accuracy: 0.8427 - 7s/epoch - 11ms/step\n",
            "Epoch 5/30\n",
            "625/625 - 4s - loss: 0.1839 - accuracy: 0.9316 - val_loss: 0.3422 - val_accuracy: 0.8581 - 4s/epoch - 7ms/step\n",
            "Epoch 6/30\n",
            "625/625 - 5s - loss: 0.1511 - accuracy: 0.9471 - val_loss: 0.3555 - val_accuracy: 0.8565 - 5s/epoch - 8ms/step\n",
            "Epoch 7/30\n",
            "625/625 - 3s - loss: 0.1253 - accuracy: 0.9582 - val_loss: 0.3837 - val_accuracy: 0.8492 - 3s/epoch - 5ms/step\n",
            "Epoch 8/30\n",
            "625/625 - 3s - loss: 0.1040 - accuracy: 0.9663 - val_loss: 0.3887 - val_accuracy: 0.8541 - 3s/epoch - 5ms/step\n",
            "Epoch 9/30\n",
            "625/625 - 4s - loss: 0.0863 - accuracy: 0.9730 - val_loss: 0.4166 - val_accuracy: 0.8509 - 4s/epoch - 6ms/step\n",
            "Epoch 10/30\n",
            "625/625 - 4s - loss: 0.0740 - accuracy: 0.9775 - val_loss: 0.4376 - val_accuracy: 0.8483 - 4s/epoch - 6ms/step\n",
            "Epoch 11/30\n",
            "625/625 - 3s - loss: 0.0608 - accuracy: 0.9821 - val_loss: 0.4702 - val_accuracy: 0.8477 - 3s/epoch - 5ms/step\n",
            "Epoch 12/30\n",
            "625/625 - 3s - loss: 0.0513 - accuracy: 0.9856 - val_loss: 0.5083 - val_accuracy: 0.8436 - 3s/epoch - 5ms/step\n",
            "Epoch 13/30\n",
            "625/625 - 4s - loss: 0.0419 - accuracy: 0.9895 - val_loss: 0.5386 - val_accuracy: 0.8416 - 4s/epoch - 7ms/step\n",
            "Epoch 14/30\n",
            "625/625 - 3s - loss: 0.0349 - accuracy: 0.9919 - val_loss: 0.5730 - val_accuracy: 0.8407 - 3s/epoch - 5ms/step\n",
            "Epoch 15/30\n",
            "625/625 - 3s - loss: 0.0300 - accuracy: 0.9930 - val_loss: 0.6129 - val_accuracy: 0.8287 - 3s/epoch - 5ms/step\n",
            "Epoch 16/30\n",
            "625/625 - 4s - loss: 0.0247 - accuracy: 0.9950 - val_loss: 0.6482 - val_accuracy: 0.8296 - 4s/epoch - 6ms/step\n",
            "Epoch 17/30\n",
            "625/625 - 4s - loss: 0.0211 - accuracy: 0.9948 - val_loss: 0.6972 - val_accuracy: 0.8331 - 4s/epoch - 6ms/step\n",
            "Epoch 18/30\n",
            "625/625 - 3s - loss: 0.0170 - accuracy: 0.9969 - val_loss: 0.7267 - val_accuracy: 0.8295 - 3s/epoch - 5ms/step\n",
            "Epoch 19/30\n",
            "625/625 - 3s - loss: 0.0136 - accuracy: 0.9974 - val_loss: 0.7637 - val_accuracy: 0.8261 - 3s/epoch - 5ms/step\n",
            "Epoch 20/30\n",
            "625/625 - 4s - loss: 0.0119 - accuracy: 0.9981 - val_loss: 0.8327 - val_accuracy: 0.8293 - 4s/epoch - 7ms/step\n",
            "Epoch 21/30\n",
            "625/625 - 3s - loss: 0.0094 - accuracy: 0.9986 - val_loss: 0.8546 - val_accuracy: 0.8205 - 3s/epoch - 5ms/step\n",
            "Epoch 22/30\n",
            "625/625 - 3s - loss: 0.0081 - accuracy: 0.9988 - val_loss: 0.9031 - val_accuracy: 0.8246 - 3s/epoch - 6ms/step\n",
            "Epoch 23/30\n",
            "625/625 - 4s - loss: 0.0064 - accuracy: 0.9991 - val_loss: 0.9471 - val_accuracy: 0.8240 - 4s/epoch - 6ms/step\n",
            "Epoch 24/30\n",
            "625/625 - 4s - loss: 0.0052 - accuracy: 0.9994 - val_loss: 1.0175 - val_accuracy: 0.8258 - 4s/epoch - 6ms/step\n",
            "Epoch 25/30\n",
            "625/625 - 5s - loss: 0.0043 - accuracy: 0.9995 - val_loss: 1.0506 - val_accuracy: 0.8229 - 5s/epoch - 7ms/step\n",
            "Epoch 26/30\n",
            "625/625 - 4s - loss: 0.0032 - accuracy: 0.9997 - val_loss: 1.1915 - val_accuracy: 0.8202 - 4s/epoch - 6ms/step\n",
            "Epoch 27/30\n",
            "625/625 - 4s - loss: 0.0029 - accuracy: 0.9996 - val_loss: 1.1277 - val_accuracy: 0.8138 - 4s/epoch - 7ms/step\n",
            "Epoch 28/30\n",
            "625/625 - 3s - loss: 0.0024 - accuracy: 0.9998 - val_loss: 1.2526 - val_accuracy: 0.8193 - 3s/epoch - 5ms/step\n",
            "Epoch 29/30\n",
            "625/625 - 6s - loss: 0.0028 - accuracy: 0.9994 - val_loss: 1.2491 - val_accuracy: 0.8213 - 6s/epoch - 10ms/step\n",
            "Epoch 30/30\n",
            "625/625 - 4s - loss: 0.0019 - accuracy: 0.9998 - val_loss: 1.3191 - val_accuracy: 0.8167 - 4s/epoch - 7ms/step\n"
          ]
        }
      ]
    },
    {
      "cell_type": "code",
      "source": [
        "import matplotlib.pyplot as plt\n",
        "\n",
        "\n",
        "def plot_graphs(history, string):\n",
        "  plt.plot(history.history[string])\n",
        "  plt.plot(history.history['val_'+string])\n",
        "  plt.xlabel(\"Epochs\")\n",
        "  plt.ylabel(string)\n",
        "  plt.legend([string, 'val_'+string])\n",
        "  plt.show()\n",
        "\n",
        "plot_graphs(history, \"accuracy\")\n",
        "plot_graphs(history, \"loss\")"
      ],
      "metadata": {
        "colab": {
          "base_uri": "https://localhost:8080/",
          "height": 881
        },
        "id": "Z3MKxWozs3Ze",
        "outputId": "f6cfd7df-86d0-4a17-ae02-541ccc9abfc1"
      },
      "execution_count": null,
      "outputs": [
        {
          "output_type": "display_data",
          "data": {
            "text/plain": [
              "<Figure size 640x480 with 1 Axes>"
            ],
            "image/png": "[encoded data removed]"
          },
          "metadata": {}
        },
        {
          "output_type": "display_data",
          "data": {
            "text/plain": [
              "<Figure size 640x480 with 1 Axes>"
            ],
            "image/png": "[encoded data removed]"
          },
          "metadata": {}
        }
      ]
    },
    {
      "cell_type": "code",
      "source": [
        "reverse_word_index = dict([(value, key) for (key, value) in word_index.items()])\n",
        "\n",
        "def decode_sentence(text):\n",
        "    return ' '.join([reverse_word_index.get(i, '?') for i in text])\n",
        "\n",
        "print(decode_sentence(training_padded[0]))\n",
        "print(training_sentences[2])\n",
        "print(labels[2])"
      ],
      "metadata": {
        "colab": {
          "base_uri": "https://localhost:8080/"
        },
        "id": "0cc7ELlss3dM",
        "outputId": "0ff3d750-6000-43f9-da50-0de1f8914b7b"
      },
      "execution_count": null,
      "outputs": [
        {
          "output_type": "stream",
          "name": "stdout",
          "text": [
            "former versace store clerk sues over secret 'black code' for minority shoppers ? ? ? ? ? ? ? ? ? ? ? ? ? ? ? ? ? ? ? ? ? ? ? ? ? ? ? ? ? ? ? ? ? ? ? ? ? ? ? ? ? ? ? ? ? ? ? ? ? ? ? ? ? ? ? ? ? ? ? ? ? ? ? ? ? ? ? ? ? ? ? ? ? ? ? ? ? ? ? ? ? ? ? ? ? ? ? ?\n",
            "mom starting to fear son's web series closest thing she will have to grandchild\n",
            "1\n"
          ]
        }
      ]
    },
    {
      "cell_type": "code",
      "source": [
        "e = model.layers[0]\n",
        "weights = e.get_weights()[0]\n",
        "print(weights.shape) # shape: (vocab_size, embedding_dim)"
      ],
      "metadata": {
        "colab": {
          "base_uri": "https://localhost:8080/"
        },
        "id": "Msb5m1Khs3gv",
        "outputId": "e6906413-2d46-40be-a389-ac72138251f3"
      },
      "execution_count": null,
      "outputs": [
        {
          "output_type": "stream",
          "name": "stdout",
          "text": [
            "(20000, 16)\n"
          ]
        }
      ]
    },
    {
      "cell_type": "code",
      "source": [
        "import io\n",
        "\n",
        "out_v = io.open('vecs.tsv', 'w', encoding='utf-8')\n",
        "out_m = io.open('meta.tsv', 'w', encoding='utf-8')\n",
        "for word_num in range(1, vocab_size):\n",
        "  word = reverse_word_index[word_num]\n",
        "  embeddings = weights[word_num]\n",
        "  out_m.write(word + \"\\n\")\n",
        "  out_v.write('\\t'.join([str(x) for x in embeddings]) + \"\\n\")\n",
        "out_v.close()\n",
        "out_m.close()"
      ],
      "metadata": {
        "id": "3mAXqA1Ss3kS"
      },
      "execution_count": null,
      "outputs": []
    },
    {
      "cell_type": "code",
      "source": [
        "try:\n",
        "  from google.colab import files\n",
        "except ImportError:\n",
        "  pass\n",
        "else:\n",
        "  files.download('vecs.tsv')\n",
        "  files.download('meta.tsv')"
      ],
      "metadata": {
        "colab": {
          "base_uri": "https://localhost:8080/",
          "height": 17
        },
        "id": "eFmcPbiis3nD",
        "outputId": "b56d8689-1527-45a2-bedd-730841115f9a"
      },
      "execution_count": null,
      "outputs": [
        {
          "output_type": "display_data",
          "data": {
            "text/plain": [
              "<IPython.core.display.Javascript object>"
            ],
            "application/javascript": [
              "\n",
              "    async function download(id, filename, size) {\n",
              "      if (!google.colab.kernel.accessAllowed) {\n",
              "        return;\n",
              "      }\n",
              "      const div = document.createElement('div');\n",
              "      const label = document.createElement('label');\n",
              "      label.textContent = `Downloading \"${filename}\": `;\n",
              "      div.appendChild(label);\n",
              "      const progress = document.createElement('progress');\n",
              "      progress.max = size;\n",
              "      div.appendChild(progress);\n",
              "      document.body.appendChild(div);\n",
              "\n",
              "      const buffers = [];\n",
              "      let downloaded = 0;\n",
              "\n",
              "      const channel = await google.colab.kernel.comms.open(id);\n",
              "      // Send a message to notify the kernel that we're ready.\n",
              "      channel.send({})\n",
              "\n",
              "      for await (const message of channel.messages) {\n",
              "        // Send a message to notify the kernel that we're ready.\n",
              "        channel.send({})\n",
              "        if (message.buffers) {\n",
              "          for (const buffer of message.buffers) {\n",
              "            buffers.push(buffer);\n",
              "            downloaded += buffer.byteLength;\n",
              "            progress.value = downloaded;\n",
              "          }\n",
              "        }\n",
              "      }\n",
              "      const blob = new Blob(buffers, {type: 'application/binary'});\n",
              "      const a = document.createElement('a');\n",
              "      a.href = window.URL.createObjectURL(blob);\n",
              "      a.download = filename;\n",
              "      div.appendChild(a);\n",
              "      a.click();\n",
              "      div.remove();\n",
              "    }\n",
              "  "
            ]
          },
          "metadata": {}
        },
        {
          "output_type": "display_data",
          "data": {
            "text/plain": [
              "<IPython.core.display.Javascript object>"
            ],
            "application/javascript": [
              "download(\"download_c66186f9-82a4-4a81-9e22-38c0aaede0d1\", \"vecs.tsv\", 3650991)"
            ]
          },
          "metadata": {}
        },
        {
          "output_type": "display_data",
          "data": {
            "text/plain": [
              "<IPython.core.display.Javascript object>"
            ],
            "application/javascript": [
              "\n",
              "    async function download(id, filename, size) {\n",
              "      if (!google.colab.kernel.accessAllowed) {\n",
              "        return;\n",
              "      }\n",
              "      const div = document.createElement('div');\n",
              "      const label = document.createElement('label');\n",
              "      label.textContent = `Downloading \"${filename}\": `;\n",
              "      div.appendChild(label);\n",
              "      const progress = document.createElement('progress');\n",
              "      progress.max = size;\n",
              "      div.appendChild(progress);\n",
              "      document.body.appendChild(div);\n",
              "\n",
              "      const buffers = [];\n",
              "      let downloaded = 0;\n",
              "\n",
              "      const channel = await google.colab.kernel.comms.open(id);\n",
              "      // Send a message to notify the kernel that we're ready.\n",
              "      channel.send({})\n",
              "\n",
              "      for await (const message of channel.messages) {\n",
              "        // Send a message to notify the kernel that we're ready.\n",
              "        channel.send({})\n",
              "        if (message.buffers) {\n",
              "          for (const buffer of message.buffers) {\n",
              "            buffers.push(buffer);\n",
              "            downloaded += buffer.byteLength;\n",
              "            progress.value = downloaded;\n",
              "          }\n",
              "        }\n",
              "      }\n",
              "      const blob = new Blob(buffers, {type: 'application/binary'});\n",
              "      const a = document.createElement('a');\n",
              "      a.href = window.URL.createObjectURL(blob);\n",
              "      a.download = filename;\n",
              "      div.appendChild(a);\n",
              "      a.click();\n",
              "      div.remove();\n",
              "    }\n",
              "  "
            ]
          },
          "metadata": {}
        },
        {
          "output_type": "display_data",
          "data": {
            "text/plain": [
              "<IPython.core.display.Javascript object>"
            ],
            "application/javascript": [
              "download(\"download_a1ab1c36-7b05-47ed-be74-f0165f2e09c4\", \"meta.tsv\", 160883)"
            ]
          },
          "metadata": {}
        }
      ]
    },
    {
      "cell_type": "code",
      "source": [
        "sentence = ['you just broke my car window. Great job!',\n",
        "           'you just saved my dog\\'s life. Thanks a million!',\n",
        "           'i just won a million dollars!']\n",
        "sequences = tokenizer.texts_to_sequences(sentence)\n",
        "padded = pad_sequences(sequences, maxlen=max_length, padding=padding_type, truncating=trunc_type)\n",
        "prediction = model.predict(padded)\n",
        "print(prediction, sentence)"
      ],
      "metadata": {
        "colab": {
          "base_uri": "https://localhost:8080/"
        },
        "id": "XqXTEeEdtgsb",
        "outputId": "26ab5b06-2f18-4195-c5f5-06724cd6dfdb"
      },
      "execution_count": null,
      "outputs": [
        {
          "output_type": "stream",
          "name": "stdout",
          "text": [
            "1/1 [==============================] - 0s 34ms/step\n",
            "[[9.9995857e-01]\n",
            " [3.6344643e-09]\n",
            " [5.0735570e-12]] ['you just broke my car window. Great job!', \"you just saved my dog's life. Thanks a million!\", 'i just won a million dollars!']\n"
          ]
        }
      ]
    }
  ]
}